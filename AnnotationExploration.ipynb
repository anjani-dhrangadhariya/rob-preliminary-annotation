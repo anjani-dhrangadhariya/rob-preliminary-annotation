{
 "cells": [
  {
   "cell_type": "markdown",
   "id": "8433e451",
   "metadata": {},
   "source": [
    "# Basic statistics for RoB annotations <br>\n",
    "RoB file: https://drive.google.com/file/d/19R9savfPdCHC8XLz2iiMvL_71lPJERWK/view"
   ]
  },
  {
   "cell_type": "code",
   "execution_count": 106,
   "id": "4a3cdc28",
   "metadata": {},
   "outputs": [],
   "source": [
    "import requests,json\n",
    "from requests import get\n",
    "from requests.auth import HTTPBasicAuth, HTTPDigestAuth\n",
    "import urllib\n",
    "import itertools\n",
    "from collections import defaultdict\n",
    "from collections import Counter"
   ]
  },
  {
   "cell_type": "code",
   "execution_count": null,
   "id": "7b1834f8",
   "metadata": {},
   "outputs": [],
   "source": []
  },
  {
   "cell_type": "markdown",
   "id": "95bcaed4",
   "metadata": {},
   "source": [
    "### Helper functions"
   ]
  },
  {
   "cell_type": "code",
   "execution_count": 19,
   "id": "e24f50bc",
   "metadata": {},
   "outputs": [],
   "source": [
    "def get_combinations(l):\n",
    "    yield from itertools.product(l, l)"
   ]
  },
  {
   "cell_type": "code",
   "execution_count": 20,
   "id": "8070e0bc",
   "metadata": {},
   "outputs": [],
   "source": [
    "project_name = 'RoB_preliminary_annotation'\n",
    "owner = 'anjDhr'\n",
    "users = ['rahel-caliesch', 'roger-annotation', 'martin-annotation', 'katia-giacomino', 'simone-annotation']\n",
    "all_user_combinations = list(itertools.combinations(users, 2)) \n",
    "all_user_combinations = get_combinations(users)\n",
    "all_user_combinations = list( all_user_combinations )"
   ]
  },
  {
   "cell_type": "code",
   "execution_count": 21,
   "id": "709f1c97",
   "metadata": {},
   "outputs": [],
   "source": [
    "'''\n",
    "exact_v1 = Stringent inter-annotator agreement\n",
    "overlapping_v1 = Relaxed inter-annotator agreement\n",
    "'''\n",
    "metrics = ['exact_v1', 'overlapping_v1'] "
   ]
  },
  {
   "cell_type": "code",
   "execution_count": 22,
   "id": "e9d57efd",
   "metadata": {},
   "outputs": [
    {
     "name": "stdout",
     "output_type": "stream",
     "text": [
      "The response for query is:  <Response [200]>\n"
     ]
    }
   ],
   "source": [
    "# Get all the entities\n",
    "all_annotations_data = 'https://www.tagtog.net/-api/metrics/v0/search_stats?project=RoB_preliminary_annotation&owner=anjDhr&search=*'\n",
    "all_annotations_data_response = get(all_annotations_data, auth=('anjDhr', '9J@NiScMhUy9LbR'))\n",
    "print('The response for query is: ', all_annotations_data_response)\n",
    "all_annotations_data_response = json.loads(all_annotations_data_response.text)"
   ]
  },
  {
   "cell_type": "code",
   "execution_count": 23,
   "id": "09013347",
   "metadata": {},
   "outputs": [],
   "source": [
    "# Get the IAA metrics\n",
    "# IAA_hardcoded = 'https://www.tagtog.net/-api/metrics/v0/iaa?project=RoB_preliminary_annotation&owner=anjDhr&member1=rahel-caliesch&member2=roger-annotation&anntaskId=e_109&metric=exact_v1'\n",
    "IAA = 'https://www.tagtog.net/-api/metrics/v0/iaa?'"
   ]
  },
  {
   "cell_type": "code",
   "execution_count": 28,
   "id": "0e575646",
   "metadata": {},
   "outputs": [
    {
     "name": "stdout",
     "output_type": "stream",
     "text": [
      "--------------------------------------------------------------------\n",
      "--------------------------------------------------------------------\n",
      "--------------------------------------------------------------------\n",
      "--------------------------------------------------------------------\n",
      "--------------------------------------------------------------------\n",
      "--------------------------------------------------------------------\n",
      "--------------------------------------------------------------------\n",
      "--------------------------------------------------------------------\n",
      "--------------------------------------------------------------------\n",
      "--------------------------------------------------------------------\n",
      "--------------------------------------------------------------------\n",
      "--------------------------------------------------------------------\n",
      "--------------------------------------------------------------------\n",
      "--------------------------------------------------------------------\n",
      "--------------------------------------------------------------------\n",
      "--------------------------------------------------------------------\n",
      "--------------------------------------------------------------------\n",
      "--------------------------------------------------------------------\n",
      "--------------------------------------------------------------------\n",
      "--------------------------------------------------------------------\n",
      "--------------------------------------------------------------------\n",
      "--------------------------------------------------------------------\n",
      "--------------------------------------------------------------------\n",
      "--------------------------------------------------------------------\n",
      "--------------------------------------------------------------------\n",
      "--------------------------------------------------------------------\n",
      "--------------------------------------------------------------------\n",
      "--------------------------------------------------------------------\n",
      "--------------------------------------------------------------------\n",
      "--------------------------------------------------------------------\n",
      "--------------------------------------------------------------------\n",
      "--------------------------------------------------------------------\n",
      "--------------------------------------------------------------------\n",
      "--------------------------------------------------------------------\n",
      "--------------------------------------------------------------------\n",
      "--------------------------------------------------------------------\n",
      "--------------------------------------------------------------------\n",
      "--------------------------------------------------------------------\n",
      "--------------------------------------------------------------------\n",
      "--------------------------------------------------------------------\n",
      "--------------------------------------------------------------------\n",
      "--------------------------------------------------------------------\n",
      "--------------------------------------------------------------------\n",
      "--------------------------------------------------------------------\n",
      "--------------------------------------------------------------------\n",
      "--------------------------------------------------------------------\n",
      "--------------------------------------------------------------------\n",
      "--------------------------------------------------------------------\n",
      "--------------------------------------------------------------------\n",
      "--------------------------------------------------------------------\n",
      "--------------------------------------------------------------------\n",
      "--------------------------------------------------------------------\n",
      "--------------------------------------------------------------------\n",
      "--------------------------------------------------------------------\n",
      "--------------------------------------------------------------------\n",
      "--------------------------------------------------------------------\n",
      "--------------------------------------------------------------------\n",
      "--------------------------------------------------------------------\n",
      "--------------------------------------------------------------------\n",
      "--------------------------------------------------------------------\n",
      "--------------------------------------------------------------------\n",
      "--------------------------------------------------------------------\n",
      "--------------------------------------------------------------------\n",
      "--------------------------------------------------------------------\n",
      "--------------------------------------------------------------------\n",
      "--------------------------------------------------------------------\n",
      "--------------------------------------------------------------------\n",
      "--------------------------------------------------------------------\n",
      "--------------------------------------------------------------------\n",
      "--------------------------------------------------------------------\n",
      "--------------------------------------------------------------------\n",
      "--------------------------------------------------------------------\n",
      "--------------------------------------------------------------------\n",
      "--------------------------------------------------------------------\n",
      "--------------------------------------------------------------------\n",
      "--------------------------------------------------------------------\n",
      "--------------------------------------------------------------------\n",
      "--------------------------------------------------------------------\n",
      "--------------------------------------------------------------------\n",
      "--------------------------------------------------------------------\n",
      "--------------------------------------------------------------------\n",
      "--------------------------------------------------------------------\n",
      "--------------------------------------------------------------------\n",
      "--------------------------------------------------------------------\n",
      "--------------------------------------------------------------------\n",
      "--------------------------------------------------------------------\n",
      "--------------------------------------------------------------------\n",
      "--------------------------------------------------------------------\n",
      "--------------------------------------------------------------------\n",
      "--------------------------------------------------------------------\n",
      "--------------------------------------------------------------------\n",
      "--------------------------------------------------------------------\n",
      "--------------------------------------------------------------------\n",
      "--------------------------------------------------------------------\n",
      "--------------------------------------------------------------------\n",
      "--------------------------------------------------------------------\n",
      "--------------------------------------------------------------------\n",
      "--------------------------------------------------------------------\n",
      "--------------------------------------------------------------------\n",
      "--------------------------------------------------------------------\n",
      "--------------------------------------------------------------------\n",
      "--------------------------------------------------------------------\n",
      "--------------------------------------------------------------------\n",
      "--------------------------------------------------------------------\n",
      "--------------------------------------------------------------------\n",
      "--------------------------------------------------------------------\n",
      "--------------------------------------------------------------------\n",
      "--------------------------------------------------------------------\n",
      "--------------------------------------------------------------------\n",
      "--------------------------------------------------------------------\n"
     ]
    }
   ],
   "source": [
    "global_annot = dict()\n",
    "user_agreement = dict() # what users have constant high agreement (relaxed agreement) between entities\n",
    "\n",
    "for eachEntry in all_annotations_data_response:\n",
    "    \n",
    "    if 'e_' in eachEntry:\n",
    "\n",
    "        entry_name =  all_annotations_data_response[eachEntry]['name']\n",
    "        entity_IAA = {}\n",
    "\n",
    "        for eachUserPair in all_user_combinations:\n",
    "\n",
    "            member1 = eachUserPair[0]\n",
    "            member2 = eachUserPair[1]\n",
    "\n",
    "            if member1 != member2:\n",
    "\n",
    "                params = (('project',project_name),('owner', owner), ('member1', member1), ('member2', member2), ('anntaskId', eachEntry), ('metric', metrics[1])) # metrics[1] = overlapping_v1\n",
    "                parameters = urllib.parse.urlencode(params)\n",
    "                entire_command = IAA + parameters\n",
    "                response = get(entire_command, auth=('anjDhr', '9J@NiScMhUy9LbR'))\n",
    "                my_json_data = json.loads(response.text)\n",
    "\n",
    "                if eachUserPair not in entity_IAA and tuple(reversed(eachUserPair)) not in entity_IAA:\n",
    "                    entity_IAA[eachUserPair] = my_json_data['f1']\n",
    "        global_annot[entry_name] = entity_IAA"
   ]
  },
  {
   "cell_type": "code",
   "execution_count": 52,
   "id": "8d9a1707",
   "metadata": {},
   "outputs": [],
   "source": [
    "unique_user_combinations = set()\n",
    "\n",
    "for eachUserCombination in all_user_combinations:\n",
    "    member1 = eachUserCombination[0]\n",
    "    member2 = eachUserCombination[1]\n",
    "    \n",
    "    if member1 != member2:\n",
    "        if eachUserCombination not in unique_user_combinations and tuple(reversed(eachUserCombination)) not in unique_user_combinations:\n",
    "            unique_user_combinations.add(eachUserCombination)"
   ]
  },
  {
   "cell_type": "markdown",
   "id": "e18ef558",
   "metadata": {},
   "source": [
    "### Which two annotators have many non-zero agreements?"
   ]
  },
  {
   "cell_type": "code",
   "execution_count": 38,
   "id": "ec48f7d3",
   "metadata": {},
   "outputs": [],
   "source": [
    "annot_pair_non0 = dict()\n",
    "\n",
    "for key, value in global_annot.items():\n",
    "    for key_i, value_i in value.items():\n",
    "        if key_i not in annot_pair_non0:\n",
    "            annot_pair_non0[key_i] = [value_i]\n",
    "        elif key_i in annot_pair_non0:\n",
    "            annot_pair_non0[key_i].append(value_i)"
   ]
  },
  {
   "cell_type": "code",
   "execution_count": 69,
   "id": "505f958e",
   "metadata": {},
   "outputs": [],
   "source": [
    "annot_pair_mostnon0 = dict()\n",
    "\n",
    "for eachUserComb in unique_user_combinations:\n",
    "    agreement_score = []\n",
    "    \n",
    "    for score in annot_pair_non0[eachUserComb]:\n",
    "        if score != None and score != 0:\n",
    "            agreement_score.append( score )\n",
    "            \n",
    "    #print('Number of non-zero agreements between' , eachUserComb, ' are' , len( agreement_score ))\n",
    "    annot_pair_mostnon0[eachUserComb] = len( agreement_score )"
   ]
  },
  {
   "cell_type": "code",
   "execution_count": 72,
   "id": "35eec414",
   "metadata": {},
   "outputs": [
    {
     "data": {
      "text/plain": [
       "{('roger-annotation', 'simone-annotation'): 1,\n",
       " ('rahel-caliesch', 'simone-annotation'): 2,\n",
       " ('martin-annotation', 'simone-annotation'): 2,\n",
       " ('katia-giacomino', 'simone-annotation'): 2,\n",
       " ('rahel-caliesch', 'katia-giacomino'): 6,\n",
       " ('rahel-caliesch', 'martin-annotation'): 8,\n",
       " ('rahel-caliesch', 'roger-annotation'): 10,\n",
       " ('roger-annotation', 'martin-annotation'): 11,\n",
       " ('roger-annotation', 'katia-giacomino'): 12,\n",
       " ('martin-annotation', 'katia-giacomino'): 15}"
      ]
     },
     "execution_count": 72,
     "metadata": {},
     "output_type": "execute_result"
    }
   ],
   "source": [
    "dict(sorted(annot_pair_mostnon0.items(), key=lambda item: item[1]))"
   ]
  },
  {
   "cell_type": "markdown",
   "id": "4ae867c7",
   "metadata": {},
   "source": [
    "### Who has the most non-zero agreements? <br>\n",
    "martin = 36 <br>\n",
    "katia = 35 <br>\n",
    "roger = 34 <br>\n",
    "rahel = 26 <br>\n",
    "simone = 7 <br>"
   ]
  },
  {
   "cell_type": "markdown",
   "id": "0b674669",
   "metadata": {},
   "source": [
    "### Who has the most LESS CONFIDENCE replies?"
   ]
  },
  {
   "cell_type": "code",
   "execution_count": 116,
   "id": "256c2841",
   "metadata": {},
   "outputs": [],
   "source": [
    "replies = dict()\n",
    "\n",
    "for key, value in global_annot.items():\n",
    "    for key_i, value_i in value.items():\n",
    "        if value_i != None and value_i != 0:           \n",
    "            for eachPerson in key_i:\n",
    "                decision = key.split( '_' )[2]\n",
    "                if eachPerson not in replies:\n",
    "                    replies[eachPerson] = [decision]\n",
    "                if eachPerson in replies:\n",
    "                    replies[eachPerson].append(decision)"
   ]
  },
  {
   "cell_type": "code",
   "execution_count": 117,
   "id": "9f08250e",
   "metadata": {},
   "outputs": [
    {
     "name": "stdout",
     "output_type": "stream",
     "text": [
      "rahel-caliesch  :  27\n",
      "roger-annotation  :  35\n",
      "martin-annotation  :  37\n",
      "katia-giacomino  :  36\n",
      "simone-annotation  :  8\n"
     ]
    }
   ],
   "source": [
    "for key, value in replies.items():\n",
    "    print(key, ' : ', len( value ))"
   ]
  },
  {
   "cell_type": "code",
   "execution_count": 118,
   "id": "194a9ba8",
   "metadata": {},
   "outputs": [],
   "source": [
    "most_less_conf = dict()\n",
    "\n",
    "for key, value in global_annot.items():\n",
    "    for key_i, value_i in value.items():\n",
    "        if value_i != None and value_i != 0:           \n",
    "            for eachPerson in key_i:\n",
    "                decision = key.split( '_' )[2]\n",
    "                if eachPerson not in most_less_conf and 'Pro' in decision:\n",
    "                    most_less_conf[eachPerson] = [decision]\n",
    "                if eachPerson in most_less_conf and 'Pro' in decision:\n",
    "                    most_less_conf[eachPerson].append(decision)"
   ]
  },
  {
   "cell_type": "code",
   "execution_count": 119,
   "id": "3210195b",
   "metadata": {},
   "outputs": [
    {
     "name": "stdout",
     "output_type": "stream",
     "text": [
      "rahel-caliesch  :  25.925925925925924\n",
      "roger-annotation  :  40.0\n",
      "martin-annotation  :  29.72972972972973\n",
      "katia-giacomino  :  36.11111111111111\n",
      "simone-annotation  :  25.0\n"
     ]
    }
   ],
   "source": [
    "# Percentage of 'less confident' annotations out of all the annotations\n",
    "for key, value in most_less_conf.items():\n",
    "    print(key, ' : ',  ( len( value ) / len(replies[key]) ) * 100 )"
   ]
  },
  {
   "cell_type": "markdown",
   "id": "ca922054",
   "metadata": {},
   "source": [
    "### Who has the most HIGH CONFIDENCE replies?"
   ]
  },
  {
   "cell_type": "code",
   "execution_count": 120,
   "id": "7c8dca8e",
   "metadata": {},
   "outputs": [],
   "source": [
    "most_high_conf = dict()\n",
    "\n",
    "for key, value in global_annot.items():\n",
    "    for key_i, value_i in value.items():\n",
    "        if value_i != None and value_i != 0:           \n",
    "            for eachPerson in key_i:\n",
    "                decision = key.split( '_' )[2]\n",
    "                if eachPerson not in most_high_conf and 'Pro' not in decision:\n",
    "                    most_high_conf[eachPerson] = [decision]\n",
    "                if eachPerson in most_high_conf and 'Pro' not in decision:\n",
    "                    most_high_conf[eachPerson].append(decision)"
   ]
  },
  {
   "cell_type": "code",
   "execution_count": 121,
   "id": "708cd956",
   "metadata": {},
   "outputs": [
    {
     "name": "stdout",
     "output_type": "stream",
     "text": [
      "rahel-caliesch  :  77.77777777777779\n",
      "roger-annotation  :  62.857142857142854\n",
      "katia-giacomino  :  66.66666666666666\n",
      "martin-annotation  :  72.97297297297297\n",
      "simone-annotation  :  87.5\n"
     ]
    }
   ],
   "source": [
    "# Percentage of 'high confident' annotations out of all the annotations\n",
    "for key, value in most_high_conf.items():\n",
    "    print(key, ' : ',  ( len( value ) / len(replies[key]) ) * 100 )"
   ]
  },
  {
   "cell_type": "markdown",
   "id": "361d6e5e",
   "metadata": {},
   "source": [
    "### What \"entity\" class are annotators least confident about?"
   ]
  },
  {
   "cell_type": "code",
   "execution_count": 130,
   "id": "c8799311",
   "metadata": {},
   "outputs": [],
   "source": [
    "all_least_conf_annot =  []\n",
    "all_high_conf_annot = []\n",
    "\n",
    "for key, value in global_annot.items():\n",
    "    for key_i, value_i in value.items():\n",
    "        if value_i != None and 'Pro' in key:\n",
    "            all_least_conf_annot.append( \"_\".join(key.split(\"_\", 3)[:3]) )\n",
    "        if value_i != None and 'Pro' not in key:\n",
    "            all_high_conf_annot.append( \"_\".join(key.split(\"_\", 3)[:3]) )            "
   ]
  },
  {
   "cell_type": "code",
   "execution_count": 131,
   "id": "3bc5fe22",
   "metadata": {},
   "outputs": [
    {
     "data": {
      "text/plain": [
       "[('5_2_ProbablyNo', 10),\n",
       " ('3_1_ProbablyYes', 10),\n",
       " ('1_2_ProbablyYes', 10),\n",
       " ('4_3_ProbablyNo', 10),\n",
       " ('2_7_ProbablyNo', 9),\n",
       " ('5_3_ProbablyNo', 9),\n",
       " ('2_3_ProbablyNo', 9),\n",
       " ('4_2_ProbablyNo', 9),\n",
       " ('1_1_ProbablyYes', 8),\n",
       " ('2_1_ProbablyYes', 8),\n",
       " ('2_2_ProbablyYes', 8),\n",
       " ('4_4_ProbablyNo', 7),\n",
       " ('4_1_ProbablyNo', 7),\n",
       " ('1_3_ProbablyNo', 6),\n",
       " ('4_5_ProbablyYes', 6),\n",
       " ('5_1_ProbablyYes', 6),\n",
       " ('2_2_ProbablyNo', 6),\n",
       " ('3_1_ProbablyNo', 6),\n",
       " ('3_2_ProbablyYes', 5),\n",
       " ('3_2_ProbablyNo', 5),\n",
       " ('4_3_ProbablyYes', 5),\n",
       " ('2_6_ProbablyYes', 5),\n",
       " ('2_3_ProbablyYes', 5),\n",
       " ('1_2_ProbablyNo', 4),\n",
       " ('3_3_ProbablyNo', 4),\n",
       " ('2_1_ProbablyNo', 4),\n",
       " ('3_4_ProbablyNo', 4),\n",
       " ('3_4_ProbablyYes', 3),\n",
       " ('5_3_ProbablyYes', 3),\n",
       " ('2_5_ProbablyNo', 3),\n",
       " ('4_4_ProbablyYes', 3),\n",
       " ('2_6_ProbablyNo', 3),\n",
       " ('3_3_ProbablyYes', 3),\n",
       " ('2_5_ProbablyYes', 3),\n",
       " ('4_5_ProbablyNo', 3),\n",
       " ('2_4_ProbablyNo', 3),\n",
       " ('5_2_ProbablyYes', 3),\n",
       " ('2_4_ProbablyYes', 3),\n",
       " ('2_7_ProbablyYes', 2),\n",
       " ('5_1_ProbablyNo', 2)]"
      ]
     },
     "execution_count": 131,
     "metadata": {},
     "output_type": "execute_result"
    }
   ],
   "source": [
    "Counter(all_least_conf_annot).most_common()"
   ]
  },
  {
   "cell_type": "code",
   "execution_count": 132,
   "id": "22471ecc",
   "metadata": {},
   "outputs": [
    {
     "data": {
      "text/plain": [
       "[('1_3_No', 16),\n",
       " ('4_3_No', 13),\n",
       " ('5_1_No', 12),\n",
       " ('5_3_No', 12),\n",
       " ('2_6_No', 11),\n",
       " ('3_1_Yes', 10),\n",
       " ('2_1_No', 10),\n",
       " ('4_1_No', 10),\n",
       " ('1_1_Yes', 10),\n",
       " ('4_2_No', 10),\n",
       " ('5_2_No', 9),\n",
       " ('2_2_Yes', 9),\n",
       " ('1_2_Yes', 7),\n",
       " ('2_1_Yes', 7),\n",
       " ('2_6_Yes', 7),\n",
       " ('1_2_No', 7),\n",
       " ('3_1_No', 6),\n",
       " ('2_2_No', 6),\n",
       " ('4_3_Yes', 6),\n",
       " ('3_2_No', 6),\n",
       " ('3_3_No', 6),\n",
       " ('3_4_No', 5),\n",
       " ('5_1_Yes', 4),\n",
       " ('2_3_No', 4),\n",
       " ('3_2_Yes', 3),\n",
       " ('2_7_No', 3),\n",
       " ('2_5_Yes', 3),\n",
       " ('4_5_Yes', 3),\n",
       " ('4_4_Yes', 3),\n",
       " ('2_7_Yes', 3),\n",
       " ('1_1_No', 3),\n",
       " ('4_4_No', 2)]"
      ]
     },
     "execution_count": 132,
     "metadata": {},
     "output_type": "execute_result"
    }
   ],
   "source": [
    "Counter(all_high_conf_annot).most_common()"
   ]
  },
  {
   "cell_type": "code",
   "execution_count": null,
   "id": "99b629cd",
   "metadata": {},
   "outputs": [],
   "source": []
  }
 ],
 "metadata": {
  "kernelspec": {
   "display_name": "Python 3 (ipykernel)",
   "language": "python",
   "name": "python3"
  },
  "language_info": {
   "codemirror_mode": {
    "name": "ipython",
    "version": 3
   },
   "file_extension": ".py",
   "mimetype": "text/x-python",
   "name": "python",
   "nbconvert_exporter": "python",
   "pygments_lexer": "ipython3",
   "version": "3.7.10"
  }
 },
 "nbformat": 4,
 "nbformat_minor": 5
}
